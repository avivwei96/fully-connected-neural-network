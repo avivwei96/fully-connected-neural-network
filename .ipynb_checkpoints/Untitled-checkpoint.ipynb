{
 "cells": [
  {
   "cell_type": "markdown",
   "id": "a97339d5",
   "metadata": {},
   "source": [
    "# Experiments"
   ]
  },
  {
   "cell_type": "markdown",
   "id": "631523c1",
   "metadata": {},
   "source": [
    "first we will import the net and the tools we need"
   ]
  },
  {
   "cell_type": "code",
   "execution_count": 20,
   "id": "908b4b9a",
   "metadata": {},
   "outputs": [],
   "source": [
    "from FC import fullyConnectedNN as fc\n",
    "import numpy as np\n",
    "from sklearn.model_selection import train_test_split\n",
    "from experiments import experiment\n",
    "import itertools\n"
   ]
  },
  {
   "cell_type": "markdown",
   "id": "d4b88ce7",
   "metadata": {},
   "source": [
    "## Data "
   ]
  },
  {
   "cell_type": "markdown",
   "id": "5d28fe5c",
   "metadata": {},
   "source": [
    "##### Import the data"
   ]
  },
  {
   "cell_type": "code",
   "execution_count": 2,
   "id": "c5946433",
   "metadata": {},
   "outputs": [],
   "source": [
    "X = np.load('MNIST-data.npy')\n",
    "y = np.load(\"MNIST-lables.npy\")"
   ]
  },
  {
   "cell_type": "markdown",
   "id": "07643573",
   "metadata": {},
   "source": [
    "##### Prepare the data for the NN"
   ]
  },
  {
   "cell_type": "code",
   "execution_count": 3,
   "id": "62816dcb",
   "metadata": {},
   "outputs": [],
   "source": [
    "# make the features ready for the net\n",
    "labels = np.zeros((len(y), 10))\n",
    "labels[np.arange(len(y)), y] = 1\n",
    "features = X.reshape((X.shape[0], -1))\n",
    "input_dim = len(features[0])\n",
    "output_dim = len(labels[0])\n",
    "\n",
    "# split to train and test\n",
    "X_train, X_test, y_train, y_test = train_test_split(features, labels, test_size=0.2, random_state=42)\n",
    "\n",
    "# normalize the feature to to the avg of the train\n",
    "mean = np.mean(np.mean(X_train, axis=0))\n",
    "X_train = X_train - mean\n",
    "X_test = X_test - mean\n",
    "\n",
    "# split the test to validation and test\n",
    "X_vladition, X_test, y_vladition, y_test = train_test_split(X_test, y_test, test_size=0.5, random_state=42)"
   ]
  },
  {
   "cell_type": "markdown",
   "id": "474d06fa",
   "metadata": {},
   "source": [
    "## learning rate"
   ]
  },
  {
   "cell_type": "markdown",
   "id": "156fab39",
   "metadata": {},
   "source": [
    "In this experiments we will try to find the best learning rate for the model"
   ]
  },
  {
   "cell_type": "code",
   "execution_count": 4,
   "id": "10c938fa",
   "metadata": {},
   "outputs": [],
   "source": [
    "best_score = 0"
   ]
  },
  {
   "cell_type": "code",
   "execution_count": 5,
   "id": "5896d002",
   "metadata": {},
   "outputs": [
    {
     "name": "stdout",
     "output_type": "stream",
     "text": [
      "\n",
      "-------------------starting-to-new-experiment------------------\n",
      "\n"
     ]
    },
    {
     "name": "stderr",
     "output_type": "stream",
     "text": [
      "  0%|                                                                                                                                                                                    | 0/20 [00:00<?, ?it/s]D:\\לימודים\\machine learning intro\\final_prpject\\fully-connected-neural-network\\FC.py:196: RuntimeWarning: overflow encountered in exp\n",
      "  return 1 / (1 + np.exp(-features))\n",
      " 75%|████████████████████████████████████████████████████████████████████████████████████████████████████████████████████████████████▎                                          | 15/20 [03:35<01:11, 14.39s/it]\n"
     ]
    },
    {
     "name": "stdout",
     "output_type": "stream",
     "text": [
      "\n",
      "--------------------------results------------------------------\n",
      "validation score=0.7862857142857143 train score=0.7904642857142857\n",
      "| lr = 0.5 | activtion function = sig | loss = CE | \n",
      "| reg l1 = 0 | reg l2 = 0 | momentum = 0 | lr chamge = 1 |\n",
      "----------------------experiment-over--------------------------\n",
      "\n",
      "----------------------new-best-model--------------------------\n",
      "| lr = 0.5 | activtion function = sig | loss = CE | \n",
      "| reg l1 = 0 | reg l2 = 0 | momentum = 0 | lr chamge = 1 |\n",
      "\n",
      "-------------------starting-to-new-experiment------------------\n",
      "\n"
     ]
    },
    {
     "name": "stderr",
     "output_type": "stream",
     "text": [
      "100%|███████████████████████████████████████████████████████████████████████████████████████████████████████████████████████████████████████████████████████████████████████████| 20/20 [04:31<00:00, 13.60s/it]\n"
     ]
    },
    {
     "name": "stdout",
     "output_type": "stream",
     "text": [
      "\n",
      "--------------------------results------------------------------\n",
      "validation score=0.8435714285714285 train score=0.8480892857142858\n",
      "| lr = 0.1 | activtion function = sig | loss = CE | \n",
      "| reg l1 = 0 | reg l2 = 0 | momentum = 0 | lr chamge = 1 |\n",
      "----------------------experiment-over--------------------------\n",
      "\n",
      "----------------------new-best-model--------------------------\n",
      "| lr = 0.1 | activtion function = sig | loss = CE | \n",
      "| reg l1 = 0 | reg l2 = 0 | momentum = 0 | lr chamge = 1 |\n",
      "\n",
      "-------------------starting-to-new-experiment------------------\n",
      "\n"
     ]
    },
    {
     "name": "stderr",
     "output_type": "stream",
     "text": [
      "100%|███████████████████████████████████████████████████████████████████████████████████████████████████████████████████████████████████████████████████████████████████████████| 20/20 [04:34<00:00, 13.71s/it]\n"
     ]
    },
    {
     "name": "stdout",
     "output_type": "stream",
     "text": [
      "\n",
      "--------------------------results------------------------------\n",
      "validation score=0.5147142857142857 train score=0.5219464285714286\n",
      "| lr = 0.01 | activtion function = sig | loss = CE | \n",
      "| reg l1 = 0 | reg l2 = 0 | momentum = 0 | lr chamge = 1 |\n",
      "----------------------experiment-over--------------------------\n",
      "\n"
     ]
    }
   ],
   "source": [
    "lrs = [0.5, 0.1, 0.01]\n",
    "for lr in lrs:\n",
    "    net_struct = [input_dim, 256, output_dim]\n",
    "    exper = experiment(net_struct, activation='sig', lr=lr, max_epochs=20)\n",
    "    net, score = exper.run_experiment(X_train, y_train, X_vladition, y_vladition)\n",
    "    if score > best_score:\n",
    "        print(\"----------------------new-best-model--------------------------\")\n",
    "        best_lr = lr\n",
    "        best_score = score\n",
    "        best_net = net\n",
    "        net.print_net()"
   ]
  },
  {
   "cell_type": "markdown",
   "id": "0ad25136",
   "metadata": {},
   "source": [
    "## Net structure"
   ]
  },
  {
   "cell_type": "markdown",
   "id": "45b10a11",
   "metadata": {},
   "source": [
    "In this experiments we will try to find the best structure "
   ]
  },
  {
   "cell_type": "code",
   "execution_count": 6,
   "id": "16540cbf",
   "metadata": {},
   "outputs": [],
   "source": [
    "best_struct = [input_dim, 256, output_dim]"
   ]
  },
  {
   "cell_type": "code",
   "execution_count": 7,
   "id": "d3c54952",
   "metadata": {},
   "outputs": [
    {
     "name": "stdout",
     "output_type": "stream",
     "text": [
      "\n",
      "-------------------starting-to-new-experiment------------------\n",
      "\n"
     ]
    },
    {
     "name": "stderr",
     "output_type": "stream",
     "text": [
      "100%|██████████████████████████████████████████████████████████████████████████████████████████████████████████████████████████████████████████████████████████████████████████| 10/10 [20:16<00:00, 121.62s/it]\n"
     ]
    },
    {
     "name": "stdout",
     "output_type": "stream",
     "text": [
      "\n",
      "--------------------------results------------------------------\n",
      "validation score=0.5301428571428571 train score=0.5381428571428571\n",
      "| lr = 0.1 | activtion function = sig | loss = CE | \n",
      "| reg l1 = 0 | reg l2 = 0 | momentum = 0 | lr chamge = 1 |\n",
      "----------------------experiment-over--------------------------\n",
      "\n",
      "\n",
      "-------------------starting-to-new-experiment------------------\n",
      "\n"
     ]
    },
    {
     "name": "stderr",
     "output_type": "stream",
     "text": [
      "100%|███████████████████████████████████████████████████████████████████████████████████████████████████████████████████████████████████████████████████████████████████████████| 10/10 [14:10<00:00, 85.02s/it]\n"
     ]
    },
    {
     "name": "stdout",
     "output_type": "stream",
     "text": [
      "\n",
      "--------------------------results------------------------------\n",
      "validation score=0.24057142857142857 train score=0.2465\n",
      "| lr = 0.1 | activtion function = sig | loss = CE | \n",
      "| reg l1 = 0 | reg l2 = 0 | momentum = 0 | lr chamge = 1 |\n",
      "----------------------experiment-over--------------------------\n",
      "\n",
      "\n",
      "-------------------starting-to-new-experiment------------------\n",
      "\n"
     ]
    },
    {
     "name": "stderr",
     "output_type": "stream",
     "text": [
      "100%|███████████████████████████████████████████████████████████████████████████████████████████████████████████████████████████████████████████████████████████████████████████| 10/10 [07:02<00:00, 42.28s/it]\n"
     ]
    },
    {
     "name": "stdout",
     "output_type": "stream",
     "text": [
      "\n",
      "--------------------------results------------------------------\n",
      "validation score=0.4867142857142857 train score=0.4938392857142857\n",
      "| lr = 0.1 | activtion function = sig | loss = CE | \n",
      "| reg l1 = 0 | reg l2 = 0 | momentum = 0 | lr chamge = 1 |\n",
      "----------------------experiment-over--------------------------\n",
      "\n",
      "\n",
      "-------------------starting-to-new-experiment------------------\n",
      "\n"
     ]
    },
    {
     "name": "stderr",
     "output_type": "stream",
     "text": [
      "100%|███████████████████████████████████████████████████████████████████████████████████████████████████████████████████████████████████████████████████████████████████████████| 10/10 [02:37<00:00, 15.78s/it]\n"
     ]
    },
    {
     "name": "stdout",
     "output_type": "stream",
     "text": [
      "\n",
      "--------------------------results------------------------------\n",
      "validation score=0.5795714285714286 train score=0.5851428571428572\n",
      "| lr = 0.1 | activtion function = sig | loss = CE | \n",
      "| reg l1 = 0 | reg l2 = 0 | momentum = 0 | lr chamge = 1 |\n",
      "----------------------experiment-over--------------------------\n",
      "\n",
      "\n",
      "-------------------starting-to-new-experiment------------------\n",
      "\n"
     ]
    },
    {
     "name": "stderr",
     "output_type": "stream",
     "text": [
      "100%|███████████████████████████████████████████████████████████████████████████████████████████████████████████████████████████████████████████████████████████████████████████| 10/10 [08:50<00:00, 53.05s/it]\n"
     ]
    },
    {
     "name": "stdout",
     "output_type": "stream",
     "text": [
      "\n",
      "--------------------------results------------------------------\n",
      "validation score=0.6392857142857142 train score=0.6530714285714285\n",
      "| lr = 0.1 | activtion function = sig | loss = CE | \n",
      "| reg l1 = 0 | reg l2 = 0 | momentum = 0 | lr chamge = 1 |\n",
      "----------------------experiment-over--------------------------\n",
      "\n"
     ]
    }
   ],
   "source": [
    "structures = [[input_dim, 1024, 1024,  output_dim], \n",
    "              [input_dim, 1024, 512, output_dim], \n",
    "              [input_dim, 512, 512, output_dim], \n",
    "              [input_dim, 256, 256, output_dim],\n",
    "              [input_dim, 1024, output_dim],]\n",
    "\n",
    "for struct in structures:\n",
    "    exper = experiment(struct, activation='sig', lr=best_lr, max_epochs=10)\n",
    "    net, score = exper.run_experiment(X_train, y_train, X_vladition, y_vladition)\n",
    "    if score > best_score:\n",
    "        print(\"----------------------new-best-model--------------------------\")\n",
    "        best_struct = struct\n",
    "        best_score = score\n",
    "        best_net = net\n"
   ]
  },
  {
   "cell_type": "markdown",
   "id": "dc188c2f",
   "metadata": {},
   "source": [
    "## Regularization"
   ]
  },
  {
   "cell_type": "markdown",
   "id": "2e379eb8",
   "metadata": {},
   "source": [
    "In this experiment we will try to find the best regularization coef"
   ]
  },
  {
   "cell_type": "code",
   "execution_count": 9,
   "id": "392a213c",
   "metadata": {},
   "outputs": [
    {
     "name": "stdout",
     "output_type": "stream",
     "text": [
      "\n",
      "-------------------starting-to-new-experiment------------------\n",
      "\n"
     ]
    },
    {
     "name": "stderr",
     "output_type": "stream",
     "text": [
      "100%|███████████████████████████████████████████████████████████████████████████████████████████████████████████████████████████████████████████████████████████████████████████| 10/10 [02:21<00:00, 14.13s/it]\n"
     ]
    },
    {
     "name": "stdout",
     "output_type": "stream",
     "text": [
      "\n",
      "--------------------------results------------------------------\n",
      "validation score=0.8327142857142857 train score=0.8399642857142857\n",
      "| lr = 0.1 | activtion function = sig | loss = CE | \n",
      "| reg l1 = 0.0001 | reg l2 = 0.0001 | momentum = 0 | lr chamge = 1 |\n",
      "----------------------experiment-over--------------------------\n",
      "\n",
      "\n",
      "-------------------starting-to-new-experiment------------------\n",
      "\n"
     ]
    },
    {
     "name": "stderr",
     "output_type": "stream",
     "text": [
      "100%|███████████████████████████████████████████████████████████████████████████████████████████████████████████████████████████████████████████████████████████████████████████| 10/10 [02:21<00:00, 14.13s/it]\n"
     ]
    },
    {
     "name": "stdout",
     "output_type": "stream",
     "text": [
      "\n",
      "--------------------------results------------------------------\n",
      "validation score=0.7394285714285714 train score=0.7416071428571429\n",
      "| lr = 0.1 | activtion function = sig | loss = CE | \n",
      "| reg l1 = 0.0001 | reg l2 = 0.001 | momentum = 0 | lr chamge = 1 |\n",
      "----------------------experiment-over--------------------------\n",
      "\n",
      "\n",
      "-------------------starting-to-new-experiment------------------\n",
      "\n"
     ]
    },
    {
     "name": "stderr",
     "output_type": "stream",
     "text": [
      "100%|███████████████████████████████████████████████████████████████████████████████████████████████████████████████████████████████████████████████████████████████████████████| 10/10 [02:20<00:00, 14.08s/it]\n"
     ]
    },
    {
     "name": "stdout",
     "output_type": "stream",
     "text": [
      "\n",
      "--------------------------results------------------------------\n",
      "validation score=0.22814285714285715 train score=0.21880357142857143\n",
      "| lr = 0.1 | activtion function = sig | loss = CE | \n",
      "| reg l1 = 0.001 | reg l2 = 0.0001 | momentum = 0 | lr chamge = 1 |\n",
      "----------------------experiment-over--------------------------\n",
      "\n",
      "\n",
      "-------------------starting-to-new-experiment------------------\n",
      "\n"
     ]
    },
    {
     "name": "stderr",
     "output_type": "stream",
     "text": [
      "100%|███████████████████████████████████████████████████████████████████████████████████████████████████████████████████████████████████████████████████████████████████████████| 10/10 [02:15<00:00, 13.50s/it]\n"
     ]
    },
    {
     "name": "stdout",
     "output_type": "stream",
     "text": [
      "\n",
      "--------------------------results------------------------------\n",
      "validation score=0.44457142857142856 train score=0.437\n",
      "| lr = 0.1 | activtion function = sig | loss = CE | \n",
      "| reg l1 = 0.001 | reg l2 = 0.001 | momentum = 0 | lr chamge = 1 |\n",
      "----------------------experiment-over--------------------------\n",
      "\n"
     ]
    }
   ],
   "source": [
    "reg = [10**-4, 10**-3]\n",
    "\n",
    "best_reg1 = 0\n",
    "best_reg2 = 0\n",
    "for reg1 in reg:\n",
    "    for reg2 in reg:\n",
    "        exper = experiment(best_struct, lr=best_lr,l1_reg=reg1, l2_reg=reg2, max_epochs=10)\n",
    "        net, score = exper.run_experiment(X_train, y_train, X_vladition, y_vladition)\n",
    "        if score > best_score:\n",
    "            print(\"----------------------new-best-model--------------------------\")\n",
    "            net.print_net\n",
    "            best_reg1 = reg1\n",
    "            best_reg2 = reg2\n",
    "            best_score = score\n",
    "            best_net = net"
   ]
  },
  {
   "cell_type": "markdown",
   "id": "d67bd20b",
   "metadata": {},
   "source": [
    "## Momentum"
   ]
  },
  {
   "cell_type": "markdown",
   "id": "7b1f9d15",
   "metadata": {},
   "source": [
    "In this experiment we will try to add momentum to the grad"
   ]
  },
  {
   "cell_type": "code",
   "execution_count": 10,
   "id": "8d859e7d",
   "metadata": {},
   "outputs": [
    {
     "name": "stdout",
     "output_type": "stream",
     "text": [
      "\n",
      "-------------------starting-to-new-experiment------------------\n",
      "\n"
     ]
    },
    {
     "name": "stderr",
     "output_type": "stream",
     "text": [
      " 75%|████████████████████████████████████████████████████████████████████████████████████████████████████████████████████████████████▎                                          | 15/20 [03:43<01:14, 14.89s/it]\n"
     ]
    },
    {
     "name": "stdout",
     "output_type": "stream",
     "text": [
      "\n",
      "--------------------------results------------------------------\n",
      "validation score=0.31142857142857144 train score=0.32789285714285715\n",
      "| lr = 0.1 | activtion function = sig | loss = CE | \n",
      "| reg l1 = 0 | reg l2 = 0 | momentum = 0.9 | lr chamge = 1 |\n",
      "----------------------experiment-over--------------------------\n",
      "\n"
     ]
    }
   ],
   "source": [
    "exper = experiment(best_struct, lr=best_lr,l1_reg=best_reg1, l2_reg=best_reg2, momentum=0.9, max_epochs=20)\n",
    "net, score = exper.run_experiment(X_train, y_train, X_vladition, y_vladition)\n",
    "if score > best_score:\n",
    "    print(\"----------------------new-best-model--------------------------\")\n",
    "    net.print_net\n",
    "    best_reg1 = reg1\n",
    "    best_reg2 = reg2\n",
    "    best_score = score\n",
    "    best_net = net"
   ]
  },
  {
   "cell_type": "markdown",
   "id": "984c5712",
   "metadata": {},
   "source": [
    "## batch size"
   ]
  },
  {
   "cell_type": "code",
   "execution_count": 35,
   "id": "992976a1",
   "metadata": {},
   "outputs": [
    {
     "name": "stderr",
     "output_type": "stream",
     "text": [
      "100%|███████████████████████████████████████████████████████████████████████████████████████████████████████████████████████████████████████████████████████████████████████████| 20/20 [02:48<00:00,  8.44s/it]\n"
     ]
    },
    {
     "name": "stdout",
     "output_type": "stream",
     "text": [
      "--------------------------results------------------------------\n",
      "validation score=0.5264285714285715 train score=0.5230178571428571\n",
      "| lr = 0.1 | activtion function = sig | loss = CE | \n",
      "| reg l1 = 0 | reg l2 = 0 | momentum = 0 | lr chamge = 1 |\n",
      "----------------------experiment-over--------------------------\n"
     ]
    },
    {
     "name": "stderr",
     "output_type": "stream",
     "text": [
      "100%|███████████████████████████████████████████████████████████████████████████████████████████████████████████████████████████████████████████████████████████████████████████| 20/20 [01:51<00:00,  5.57s/it]\n"
     ]
    },
    {
     "name": "stdout",
     "output_type": "stream",
     "text": [
      "--------------------------results------------------------------\n",
      "validation score=0.7767142857142857 train score=0.7809464285714286\n",
      "| lr = 0.1 | activtion function = sig | loss = CE | \n",
      "| reg l1 = 0 | reg l2 = 0 | momentum = 0 | lr chamge = 1 |\n",
      "----------------------experiment-over--------------------------\n"
     ]
    },
    {
     "name": "stderr",
     "output_type": "stream",
     "text": [
      "100%|███████████████████████████████████████████████████████████████████████████████████████████████████████████████████████████████████████████████████████████████████████████| 20/20 [01:24<00:00,  4.25s/it]\n"
     ]
    },
    {
     "name": "stdout",
     "output_type": "stream",
     "text": [
      "--------------------------results------------------------------\n",
      "validation score=0.8428571428571429 train score=0.8507857142857143\n",
      "| lr = 0.1 | activtion function = sig | loss = CE | \n",
      "| reg l1 = 0 | reg l2 = 0 | momentum = 0 | lr chamge = 1 |\n",
      "----------------------experiment-over--------------------------\n"
     ]
    }
   ],
   "source": [
    "batch_sizes = [32, 64, 256]\n",
    "best_batch = 32\n",
    "for batch_size in batch_sizes:\n",
    "    net = fc(best_struct,l1_reg=best_reg1, l2_reg=best_reg2)\n",
    "    net.train(X_train, y_train, X_vladition, y_vladition, lr=best_lr, epochs = 20, batch_size=batch_size)\n",
    "    score = net.score(X_vladition, np.argmax(y_vladition, axis=1))\n",
    "    train_score = net.score(X_train, np.argmax(y_train, axis=1))\n",
    "    print('--------------------------results------------------------------')\n",
    "    print(f\"validation score={score} train score={train_score}\")\n",
    "    net.print_net()\n",
    "    print('----------------------experiment-over--------------------------')\n",
    "    if score > best_score:\n",
    "        print(\"----------------------new-best-model--------------------------\")\n",
    "        net.print_net\n",
    "        best_batch = batch_size\n",
    "        best_score = score\n",
    "        best_net = net\n",
    "    "
   ]
  },
  {
   "cell_type": "markdown",
   "id": "2846da18",
   "metadata": {},
   "source": [
    "# changing the learning rate during the epochs"
   ]
  },
  {
   "cell_type": "code",
   "execution_count": 25,
   "id": "2a8ce3fe",
   "metadata": {},
   "outputs": [
    {
     "name": "stdout",
     "output_type": "stream",
     "text": [
      "\n",
      "-------------------starting-to-new-experiment------------------\n",
      "\n"
     ]
    },
    {
     "name": "stderr",
     "output_type": "stream",
     "text": [
      "100%|███████████████████████████████████████████████████████████████████████████████████████████████████████████████████████████████████████████████████████████████████████████| 20/20 [04:39<00:00, 13.98s/it]\n"
     ]
    },
    {
     "name": "stdout",
     "output_type": "stream",
     "text": [
      "\n",
      "--------------------------results------------------------------\n",
      "validation score=0.8382857142857143 train score=0.8390714285714286\n",
      "| lr = 0.03874204890000002 | activtion function = sig | loss = CE | \n",
      "| reg l1 = 0 | reg l2 = 0 | momentum = 0 | lr chamge = 0.9 |\n",
      "----------------------experiment-over--------------------------\n",
      "\n"
     ]
    }
   ],
   "source": [
    "exper = experiment(best_struct, lr=best_lr,l1_reg=best_reg1, l2_reg=best_reg2, max_epochs=20, lr_change=0.9)\n",
    "net, score = exper.run_experiment(X_train, y_train, X_vladition, y_vladition)\n",
    "if score > best_score:\n",
    "    print(\"----------------------new-best-model--------------------------\")\n",
    "    net.print_net\n",
    "    best_score = score\n",
    "    best_net = net"
   ]
  },
  {
   "cell_type": "markdown",
   "id": "38c055ce",
   "metadata": {},
   "source": [
    "# train the best net"
   ]
  },
  {
   "cell_type": "code",
   "execution_count": 36,
   "id": "277b283c",
   "metadata": {},
   "outputs": [
    {
     "name": "stderr",
     "output_type": "stream",
     "text": [
      " 28%|███████████████████████████████████████████████                                                                                                                            | 11/40 [02:37<06:55, 14.34s/it]\n"
     ]
    }
   ],
   "source": [
    "best_net.train(X_train, y_train, X_vladition, y_vladition, epochs=40, lr=best_lr)"
   ]
  },
  {
   "cell_type": "code",
   "execution_count": 38,
   "id": "bd505141",
   "metadata": {},
   "outputs": [
    {
     "name": "stderr",
     "output_type": "stream",
     "text": [
      " 30%|███████████████████████████████████████████████████▎                                                                                                                       | 12/40 [02:42<06:19, 13.54s/it]\n"
     ]
    }
   ],
   "source": [
    "best_net.train(X_train, y_train, X_vladition, y_vladition, epochs=40,lr=best_lr*0.1)"
   ]
  },
  {
   "cell_type": "code",
   "execution_count": 39,
   "id": "517c3f27",
   "metadata": {},
   "outputs": [
    {
     "name": "stderr",
     "output_type": "stream",
     "text": [
      " 32%|███████████████████████████████████████████████████████▌                                                                                                                   | 13/40 [02:48<05:50, 12.98s/it]\n"
     ]
    }
   ],
   "source": [
    "best_net.train(X_train, y_train, X_vladition, y_vladition, epochs=40, lr=best_lr*0.01)"
   ]
  },
  {
   "cell_type": "code",
   "execution_count": 40,
   "id": "427d62e6",
   "metadata": {},
   "outputs": [
    {
     "name": "stdout",
     "output_type": "stream",
     "text": [
      "| lr = 0.001 | activtion function = sig | loss = CE | \n",
      "| reg l1 = 0.0001 | reg l2 = 0.0001 | momentum = 0 | lr chamge = 1 |\n"
     ]
    }
   ],
   "source": [
    "best_net.print_net()"
   ]
  },
  {
   "cell_type": "code",
   "execution_count": 41,
   "id": "a1351684",
   "metadata": {},
   "outputs": [
    {
     "data": {
      "text/plain": [
       "0.808"
      ]
     },
     "execution_count": 41,
     "metadata": {},
     "output_type": "execute_result"
    }
   ],
   "source": [
    "best_net.score(X_test, np.argmax(y_test, axis=1))"
   ]
  },
  {
   "cell_type": "code",
   "execution_count": null,
   "id": "16b83da3",
   "metadata": {},
   "outputs": [],
   "source": []
  }
 ],
 "metadata": {
  "kernelspec": {
   "display_name": "Python 3 (ipykernel)",
   "language": "python",
   "name": "python3"
  },
  "language_info": {
   "codemirror_mode": {
    "name": "ipython",
    "version": 3
   },
   "file_extension": ".py",
   "mimetype": "text/x-python",
   "name": "python",
   "nbconvert_exporter": "python",
   "pygments_lexer": "ipython3",
   "version": "3.9.12"
  }
 },
 "nbformat": 4,
 "nbformat_minor": 5
}
