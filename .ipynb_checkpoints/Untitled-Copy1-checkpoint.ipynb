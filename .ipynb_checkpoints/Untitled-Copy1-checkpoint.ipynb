{
 "cells": [
  {
   "cell_type": "markdown",
   "id": "a97339d5",
   "metadata": {},
   "source": [
    "# Experiments"
   ]
  },
  {
   "cell_type": "markdown",
   "id": "631523c1",
   "metadata": {},
   "source": [
    "first we will import the net and the tools we need"
   ]
  },
  {
   "cell_type": "code",
   "execution_count": 1,
   "id": "908b4b9a",
   "metadata": {},
   "outputs": [],
   "source": [
    "from FC import fullyConnectedNN as fc\n",
    "import numpy as np\n",
    "from sklearn.model_selection import train_test_split\n",
    "from experiments import experiment\n",
    "import itertools\n"
   ]
  },
  {
   "cell_type": "markdown",
   "id": "d4b88ce7",
   "metadata": {},
   "source": [
    "## Data "
   ]
  },
  {
   "cell_type": "markdown",
   "id": "5d28fe5c",
   "metadata": {},
   "source": [
    "##### Import the data"
   ]
  },
  {
   "cell_type": "code",
   "execution_count": 2,
   "id": "c5946433",
   "metadata": {},
   "outputs": [],
   "source": [
    "X = np.load('MNIST-data.npy')\n",
    "y = np.load(\"MNIST-lables.npy\")"
   ]
  },
  {
   "cell_type": "markdown",
   "id": "07643573",
   "metadata": {},
   "source": [
    "##### Prepare the data for the NN"
   ]
  },
  {
   "cell_type": "code",
   "execution_count": 3,
   "id": "62816dcb",
   "metadata": {},
   "outputs": [],
   "source": [
    "# make the features ready for the net\n",
    "labels = np.zeros((len(y), 10))\n",
    "labels[np.arange(len(y)), y] = 1\n",
    "features = X.reshape((X.shape[0], -1))\n",
    "input_dim = len(features[0])\n",
    "output_dim = len(labels[0])\n",
    "\n",
    "# split to train and test\n",
    "X_train, X_test, y_train, y_test = train_test_split(features, labels, test_size=0.2, random_state=42)\n",
    "\n",
    "# normalize the feature to to the avg of the train\n",
    "mean = np.mean(np.mean(X_train, axis=0))\n",
    "X_train = X_train - mean\n",
    "X_test = X_test - mean\n",
    "\n",
    "# split the test to validation and test\n",
    "X_vladition, X_test, y_vladition, y_test = train_test_split(X_test, y_test, test_size=0.5, random_state=42)"
   ]
  },
  {
   "cell_type": "markdown",
   "id": "474d06fa",
   "metadata": {},
   "source": [
    "## learning rate"
   ]
  },
  {
   "cell_type": "markdown",
   "id": "156fab39",
   "metadata": {},
   "source": [
    "In this experiments we will try to find the best learning rate for the model"
   ]
  },
  {
   "cell_type": "code",
   "execution_count": 4,
   "id": "10c938fa",
   "metadata": {},
   "outputs": [],
   "source": [
    "best_score = 0"
   ]
  },
  {
   "cell_type": "code",
   "execution_count": 5,
   "id": "5896d002",
   "metadata": {},
   "outputs": [
    {
     "name": "stdout",
     "output_type": "stream",
     "text": [
      "\n",
      "-------------------starting-to-new-experiment------------------\n",
      "\n"
     ]
    },
    {
     "name": "stderr",
     "output_type": "stream",
     "text": [
      "  0%|                                                                                           | 0/50 [00:00<?, ?it/s]D:\\לימודים\\machine learning intro\\final_prpject\\fully-connected-neural-network\\FC.py:196: RuntimeWarning: overflow encountered in exp\n",
      "  return 1 / (1 + np.exp(-features))\n",
      " 38%|███████████████████████████████▏                                                  | 19/50 [07:08<11:38, 22.53s/it]\n"
     ]
    },
    {
     "name": "stdout",
     "output_type": "stream",
     "text": [
      "\n",
      "--------------------------results------------------------------\n",
      "validation score=0.877 train score=0.8850178571428572\n",
      "| lr = 0.5 | activtion function = sig | loss = CE | \n",
      "| reg l1 = 0 | reg l2 = 0 | momentum = 0 | lr chamge = 1 |\n",
      "----------------------experiment-over--------------------------\n",
      "\n",
      "----------------------new-best-model--------------------------\n",
      "| lr = 0.5 | activtion function = sig | loss = CE | \n",
      "| reg l1 = 0 | reg l2 = 0 | momentum = 0 | lr chamge = 1 |\n",
      "\n",
      "-------------------starting-to-new-experiment------------------\n",
      "\n"
     ]
    },
    {
     "name": "stderr",
     "output_type": "stream",
     "text": [
      " 82%|███████████████████████████████████████████████████████████████████▏              | 41/50 [14:45<03:14, 21.60s/it]\n"
     ]
    },
    {
     "name": "stdout",
     "output_type": "stream",
     "text": [
      "\n",
      "--------------------------results------------------------------\n",
      "validation score=0.8068571428571428 train score=0.8101607142857142\n",
      "| lr = 0.1 | activtion function = sig | loss = CE | \n",
      "| reg l1 = 0 | reg l2 = 0 | momentum = 0 | lr chamge = 1 |\n",
      "----------------------experiment-over--------------------------\n",
      "\n",
      "\n",
      "-------------------starting-to-new-experiment------------------\n",
      "\n"
     ]
    },
    {
     "name": "stderr",
     "output_type": "stream",
     "text": [
      " 76%|██████████████████████████████████████████████████████████████▎                   | 38/50 [13:35<04:17, 21.45s/it]\n"
     ]
    },
    {
     "name": "stdout",
     "output_type": "stream",
     "text": [
      "\n",
      "--------------------------results------------------------------\n",
      "validation score=0.7651428571428571 train score=0.7784464285714285\n",
      "| lr = 0.05 | activtion function = sig | loss = CE | \n",
      "| reg l1 = 0 | reg l2 = 0 | momentum = 0 | lr chamge = 1 |\n",
      "----------------------experiment-over--------------------------\n",
      "\n",
      "\n",
      "-------------------starting-to-new-experiment------------------\n",
      "\n"
     ]
    },
    {
     "name": "stderr",
     "output_type": "stream",
     "text": [
      "100%|██████████████████████████████████████████████████████████████████████████████████| 50/50 [17:22<00:00, 20.85s/it]\n"
     ]
    },
    {
     "name": "stdout",
     "output_type": "stream",
     "text": [
      "\n",
      "--------------------------results------------------------------\n",
      "validation score=0.7134285714285714 train score=0.715875\n",
      "| lr = 0.01 | activtion function = sig | loss = CE | \n",
      "| reg l1 = 0 | reg l2 = 0 | momentum = 0 | lr chamge = 1 |\n",
      "----------------------experiment-over--------------------------\n",
      "\n",
      "\n",
      "-------------------starting-to-new-experiment------------------\n",
      "\n"
     ]
    },
    {
     "name": "stderr",
     "output_type": "stream",
     "text": [
      "100%|██████████████████████████████████████████████████████████████████████████████████| 50/50 [17:25<00:00, 20.90s/it]\n"
     ]
    },
    {
     "name": "stdout",
     "output_type": "stream",
     "text": [
      "\n",
      "--------------------------results------------------------------\n",
      "validation score=0.461 train score=0.4483392857142857\n",
      "| lr = 0.005 | activtion function = sig | loss = CE | \n",
      "| reg l1 = 0 | reg l2 = 0 | momentum = 0 | lr chamge = 1 |\n",
      "----------------------experiment-over--------------------------\n",
      "\n",
      "\n",
      "-------------------starting-to-new-experiment------------------\n",
      "\n"
     ]
    },
    {
     "name": "stderr",
     "output_type": "stream",
     "text": [
      "100%|██████████████████████████████████████████████████████████████████████████████████| 50/50 [17:19<00:00, 20.79s/it]\n"
     ]
    },
    {
     "name": "stdout",
     "output_type": "stream",
     "text": [
      "\n",
      "--------------------------results------------------------------\n",
      "validation score=0.2965714285714286 train score=0.30576785714285715\n",
      "| lr = 0.001 | activtion function = sig | loss = CE | \n",
      "| reg l1 = 0 | reg l2 = 0 | momentum = 0 | lr chamge = 1 |\n",
      "----------------------experiment-over--------------------------\n",
      "\n"
     ]
    }
   ],
   "source": [
    "lrs = [0.5, 0.1, 0.05, 0.01, 0.005, 0.001]\n",
    "for lr in lrs:\n",
    "    net_struct = [input_dim, 1024, output_dim]\n",
    "    exper = experiment(net_struct, activation='sig', lr=lr, max_epochs=50)\n",
    "    net, score = exper.run_experiment(X_train, y_train, X_vladition, y_vladition)\n",
    "    if score > best_score:\n",
    "        print(\"----------------------new-best-model--------------------------\")\n",
    "        best_lr = lr\n",
    "        best_score = score\n",
    "        best_net = net\n",
    "        net.print_net()"
   ]
  },
  {
   "cell_type": "code",
   "execution_count": 6,
   "id": "f07603fa",
   "metadata": {},
   "outputs": [
    {
     "name": "stdout",
     "output_type": "stream",
     "text": [
      "\n",
      "-------------------starting-to-new-experiment------------------\n",
      "\n"
     ]
    },
    {
     "name": "stderr",
     "output_type": "stream",
     "text": [
      " 74%|████████████████████████████████████████████████████████████▋                     | 37/50 [09:18<03:16, 15.10s/it]\n"
     ]
    },
    {
     "name": "stdout",
     "output_type": "stream",
     "text": [
      "\n",
      "--------------------------results------------------------------\n",
      "validation score=0.7771428571428571 train score=0.7943035714285714\n",
      "| lr = 0.5 | activtion function = tan_h | loss = CE | \n",
      "| reg l1 = 0 | reg l2 = 0 | momentum = 0 | lr chamge = 1 |\n",
      "----------------------experiment-over--------------------------\n",
      "\n",
      "\n",
      "-------------------starting-to-new-experiment------------------\n",
      "\n"
     ]
    },
    {
     "name": "stderr",
     "output_type": "stream",
     "text": [
      " 66%|██████████████████████████████████████████████████████                            | 33/50 [08:19<04:17, 15.13s/it]\n"
     ]
    },
    {
     "name": "stdout",
     "output_type": "stream",
     "text": [
      "\n",
      "--------------------------results------------------------------\n",
      "validation score=0.8634285714285714 train score=0.8763035714285714\n",
      "| lr = 0.1 | activtion function = tan_h | loss = CE | \n",
      "| reg l1 = 0 | reg l2 = 0 | momentum = 0 | lr chamge = 1 |\n",
      "----------------------experiment-over--------------------------\n",
      "\n",
      "\n",
      "-------------------starting-to-new-experiment------------------\n",
      "\n"
     ]
    },
    {
     "name": "stderr",
     "output_type": "stream",
     "text": [
      " 88%|████████████████████████████████████████████████████████████████████████▏         | 44/50 [11:01<01:30, 15.04s/it]\n"
     ]
    },
    {
     "name": "stdout",
     "output_type": "stream",
     "text": [
      "\n",
      "--------------------------results------------------------------\n",
      "validation score=0.8535714285714285 train score=0.8667321428571428\n",
      "| lr = 0.05 | activtion function = tan_h | loss = CE | \n",
      "| reg l1 = 0 | reg l2 = 0 | momentum = 0 | lr chamge = 1 |\n",
      "----------------------experiment-over--------------------------\n",
      "\n",
      "\n",
      "-------------------starting-to-new-experiment------------------\n",
      "\n"
     ]
    },
    {
     "name": "stderr",
     "output_type": "stream",
     "text": [
      "100%|██████████████████████████████████████████████████████████████████████████████████| 50/50 [12:39<00:00, 15.19s/it]\n"
     ]
    },
    {
     "name": "stdout",
     "output_type": "stream",
     "text": [
      "\n",
      "--------------------------results------------------------------\n",
      "validation score=0.7774285714285715 train score=0.7796785714285714\n",
      "| lr = 0.01 | activtion function = tan_h | loss = CE | \n",
      "| reg l1 = 0 | reg l2 = 0 | momentum = 0 | lr chamge = 1 |\n",
      "----------------------experiment-over--------------------------\n",
      "\n",
      "\n",
      "-------------------starting-to-new-experiment------------------\n",
      "\n"
     ]
    },
    {
     "name": "stderr",
     "output_type": "stream",
     "text": [
      "100%|██████████████████████████████████████████████████████████████████████████████████| 50/50 [14:05<00:00, 16.91s/it]\n"
     ]
    },
    {
     "name": "stdout",
     "output_type": "stream",
     "text": [
      "\n",
      "--------------------------results------------------------------\n",
      "validation score=0.6578571428571428 train score=0.6635535714285714\n",
      "| lr = 0.005 | activtion function = tan_h | loss = CE | \n",
      "| reg l1 = 0 | reg l2 = 0 | momentum = 0 | lr chamge = 1 |\n",
      "----------------------experiment-over--------------------------\n",
      "\n",
      "\n",
      "-------------------starting-to-new-experiment------------------\n",
      "\n"
     ]
    },
    {
     "name": "stderr",
     "output_type": "stream",
     "text": [
      "100%|██████████████████████████████████████████████████████████████████████████████████| 50/50 [12:15<00:00, 14.72s/it]\n"
     ]
    },
    {
     "name": "stdout",
     "output_type": "stream",
     "text": [
      "\n",
      "--------------------------results------------------------------\n",
      "validation score=0.32357142857142857 train score=0.33935714285714286\n",
      "| lr = 0.001 | activtion function = tan_h | loss = CE | \n",
      "| reg l1 = 0 | reg l2 = 0 | momentum = 0 | lr chamge = 1 |\n",
      "----------------------experiment-over--------------------------\n",
      "\n"
     ]
    }
   ],
   "source": [
    "lrs = [0.5, 0.1, 0.05, 0.01, 0.005, 0.001]\n",
    "for lr in lrs:\n",
    "    net_struct = [input_dim, 1024, output_dim]\n",
    "    exper = experiment(net_struct, activation='tan_h', lr=lr, max_epochs=50)\n",
    "    net, score = exper.run_experiment(X_train, y_train, X_vladition, y_vladition)\n",
    "    if score > best_score:\n",
    "        print(\"----------------------new-best-model--------------------------\")\n",
    "        best_lr = lr\n",
    "        best_score = score\n",
    "        best_net = net\n",
    "        net.print_net()"
   ]
  },
  {
   "cell_type": "markdown",
   "id": "0ad25136",
   "metadata": {},
   "source": [
    "## Net structure"
   ]
  },
  {
   "cell_type": "markdown",
   "id": "45b10a11",
   "metadata": {},
   "source": [
    "In this experiments we will try to find the best structure "
   ]
  },
  {
   "cell_type": "code",
   "execution_count": 7,
   "id": "16540cbf",
   "metadata": {},
   "outputs": [],
   "source": [
    "best_struct = [input_dim, 1024, output_dim]"
   ]
  },
  {
   "cell_type": "code",
   "execution_count": 8,
   "id": "d3c54952",
   "metadata": {},
   "outputs": [
    {
     "name": "stdout",
     "output_type": "stream",
     "text": [
      "\n",
      "-------------------starting-to-new-experiment------------------\n",
      "\n"
     ]
    },
    {
     "name": "stderr",
     "output_type": "stream",
     "text": [
      " 38%|███████████████████████████████▏                                                  | 19/50 [16:09<26:22, 51.05s/it]\n"
     ]
    },
    {
     "name": "stdout",
     "output_type": "stream",
     "text": [
      "\n",
      "--------------------------results------------------------------\n",
      "validation score=0.7082857142857143 train score=0.710375\n",
      "| lr = 0.5 | activtion function = sig | loss = CE | \n",
      "| reg l1 = 0 | reg l2 = 0 | momentum = 0 | lr chamge = 1 |\n",
      "----------------------experiment-over--------------------------\n",
      "\n",
      "\n",
      "-------------------starting-to-new-experiment------------------\n",
      "\n"
     ]
    },
    {
     "name": "stderr",
     "output_type": "stream",
     "text": [
      " 38%|███████████████████████████████▏                                                  | 19/50 [08:35<14:01, 27.15s/it]\n"
     ]
    },
    {
     "name": "stdout",
     "output_type": "stream",
     "text": [
      "\n",
      "--------------------------results------------------------------\n",
      "validation score=0.7482857142857143 train score=0.7564642857142857\n",
      "| lr = 0.5 | activtion function = sig | loss = CE | \n",
      "| reg l1 = 0 | reg l2 = 0 | momentum = 0 | lr chamge = 1 |\n",
      "----------------------experiment-over--------------------------\n",
      "\n",
      "\n",
      "-------------------starting-to-new-experiment------------------\n",
      "\n"
     ]
    },
    {
     "name": "stderr",
     "output_type": "stream",
     "text": [
      " 44%|████████████████████████████████████                                              | 22/50 [12:53<16:24, 35.17s/it]\n"
     ]
    },
    {
     "name": "stdout",
     "output_type": "stream",
     "text": [
      "\n",
      "--------------------------results------------------------------\n",
      "validation score=0.4665714285714286 train score=0.4736964285714286\n",
      "| lr = 0.5 | activtion function = sig | loss = CE | \n",
      "| reg l1 = 0 | reg l2 = 0 | momentum = 0 | lr chamge = 1 |\n",
      "----------------------experiment-over--------------------------\n",
      "\n",
      "\n",
      "-------------------starting-to-new-experiment------------------\n",
      "\n"
     ]
    },
    {
     "name": "stderr",
     "output_type": "stream",
     "text": [
      " 46%|█████████████████████████████████████▋                                            | 23/50 [06:17<07:23, 16.42s/it]\n"
     ]
    },
    {
     "name": "stdout",
     "output_type": "stream",
     "text": [
      "\n",
      "--------------------------results------------------------------\n",
      "validation score=0.5712857142857143 train score=0.5853214285714285\n",
      "| lr = 0.5 | activtion function = sig | loss = CE | \n",
      "| reg l1 = 0 | reg l2 = 0 | momentum = 0 | lr chamge = 1 |\n",
      "----------------------experiment-over--------------------------\n",
      "\n",
      "\n",
      "-------------------starting-to-new-experiment------------------\n",
      "\n"
     ]
    },
    {
     "name": "stderr",
     "output_type": "stream",
     "text": [
      " 30%|████████████████████████▌                                                         | 15/50 [03:20<07:47, 13.36s/it]\n"
     ]
    },
    {
     "name": "stdout",
     "output_type": "stream",
     "text": [
      "\n",
      "--------------------------results------------------------------\n",
      "validation score=0.5894285714285714 train score=0.580375\n",
      "| lr = 0.5 | activtion function = sig | loss = CE | \n",
      "| reg l1 = 0 | reg l2 = 0 | momentum = 0 | lr chamge = 1 |\n",
      "----------------------experiment-over--------------------------\n",
      "\n",
      "\n",
      "-------------------starting-to-new-experiment------------------\n",
      "\n"
     ]
    },
    {
     "name": "stderr",
     "output_type": "stream",
     "text": [
      " 26%|█████████████████████▎                                                            | 13/50 [01:28<04:13,  6.84s/it]\n"
     ]
    },
    {
     "name": "stdout",
     "output_type": "stream",
     "text": [
      "\n",
      "--------------------------results------------------------------\n",
      "validation score=0.4542857142857143 train score=0.46101785714285715\n",
      "| lr = 0.5 | activtion function = sig | loss = CE | \n",
      "| reg l1 = 0 | reg l2 = 0 | momentum = 0 | lr chamge = 1 |\n",
      "----------------------experiment-over--------------------------\n",
      "\n",
      "\n",
      "-------------------starting-to-new-experiment------------------\n",
      "\n"
     ]
    },
    {
     "name": "stderr",
     "output_type": "stream",
     "text": [
      " 36%|█████████████████████████████▌                                                    | 18/50 [03:09<05:36, 10.52s/it]\n"
     ]
    },
    {
     "name": "stdout",
     "output_type": "stream",
     "text": [
      "\n",
      "--------------------------results------------------------------\n",
      "validation score=0.811 train score=0.8166428571428571\n",
      "| lr = 0.5 | activtion function = sig | loss = CE | \n",
      "| reg l1 = 0 | reg l2 = 0 | momentum = 0 | lr chamge = 1 |\n",
      "----------------------experiment-over--------------------------\n",
      "\n"
     ]
    }
   ],
   "source": [
    "structures = [[input_dim, 1024, 1024,  output_dim],\n",
    "              [input_dim, 1024, 256,  output_dim],              \n",
    "              [input_dim, 1024, 512, output_dim], \n",
    "              [input_dim, 512, 512, output_dim], \n",
    "              [input_dim, 512, 256, output_dim],\n",
    "              [input_dim, 256, 256, output_dim],\n",
    "              [input_dim, 512, output_dim],\n",
    "             ]\n",
    "\n",
    "for struct in structures:\n",
    "    exper = experiment(struct, activation='sig', lr=best_lr, max_epochs=50)\n",
    "    net, score = exper.run_experiment(X_train, y_train, X_vladition, y_vladition)\n",
    "    if score > best_score:\n",
    "        print(\"----------------------new-best-model--------------------------\")\n",
    "        best_struct = struct\n",
    "        best_score = score\n",
    "        best_net = net\n"
   ]
  },
  {
   "cell_type": "code",
   "execution_count": 9,
   "id": "7eb23193",
   "metadata": {},
   "outputs": [
    {
     "name": "stdout",
     "output_type": "stream",
     "text": [
      "\n",
      "-------------------starting-to-new-experiment------------------\n",
      "\n"
     ]
    },
    {
     "name": "stderr",
     "output_type": "stream",
     "text": [
      " 40%|████████████████████████████████▊                                                 | 20/50 [11:37<17:26, 34.88s/it]\n"
     ]
    },
    {
     "name": "stdout",
     "output_type": "stream",
     "text": [
      "\n",
      "--------------------------results------------------------------\n",
      "validation score=0.771 train score=0.780875\n",
      "| lr = 0.5 | activtion function = tan_h | loss = CE | \n",
      "| reg l1 = 0 | reg l2 = 0 | momentum = 0 | lr chamge = 1 |\n",
      "----------------------experiment-over--------------------------\n",
      "\n",
      "\n",
      "-------------------starting-to-new-experiment------------------\n",
      "\n"
     ]
    },
    {
     "name": "stderr",
     "output_type": "stream",
     "text": [
      " 22%|██████████████████                                                                | 11/50 [03:50<13:37, 20.97s/it]\n"
     ]
    },
    {
     "name": "stdout",
     "output_type": "stream",
     "text": [
      "\n",
      "--------------------------results------------------------------\n",
      "validation score=0.6448571428571429 train score=0.6344285714285715\n",
      "| lr = 0.5 | activtion function = tan_h | loss = CE | \n",
      "| reg l1 = 0 | reg l2 = 0 | momentum = 0 | lr chamge = 1 |\n",
      "----------------------experiment-over--------------------------\n",
      "\n",
      "\n",
      "-------------------starting-to-new-experiment------------------\n",
      "\n"
     ]
    },
    {
     "name": "stderr",
     "output_type": "stream",
     "text": [
      " 30%|████████████████████████▌                                                         | 15/50 [06:17<14:40, 25.15s/it]\n"
     ]
    },
    {
     "name": "stdout",
     "output_type": "stream",
     "text": [
      "\n",
      "--------------------------results------------------------------\n",
      "validation score=0.6555714285714286 train score=0.6613928571428571\n",
      "| lr = 0.5 | activtion function = tan_h | loss = CE | \n",
      "| reg l1 = 0 | reg l2 = 0 | momentum = 0 | lr chamge = 1 |\n",
      "----------------------experiment-over--------------------------\n",
      "\n",
      "\n",
      "-------------------starting-to-new-experiment------------------\n",
      "\n"
     ]
    },
    {
     "name": "stderr",
     "output_type": "stream",
     "text": [
      " 26%|█████████████████████▎                                                            | 13/50 [02:48<08:00, 12.98s/it]\n"
     ]
    },
    {
     "name": "stdout",
     "output_type": "stream",
     "text": [
      "\n",
      "--------------------------results------------------------------\n",
      "validation score=0.5088571428571429 train score=0.5114285714285715\n",
      "| lr = 0.5 | activtion function = tan_h | loss = CE | \n",
      "| reg l1 = 0 | reg l2 = 0 | momentum = 0 | lr chamge = 1 |\n",
      "----------------------experiment-over--------------------------\n",
      "\n",
      "\n",
      "-------------------starting-to-new-experiment------------------\n",
      "\n"
     ]
    },
    {
     "name": "stderr",
     "output_type": "stream",
     "text": [
      " 26%|█████████████████████▎                                                            | 13/50 [02:13<06:19, 10.26s/it]\n"
     ]
    },
    {
     "name": "stdout",
     "output_type": "stream",
     "text": [
      "\n",
      "--------------------------results------------------------------\n",
      "validation score=0.2797142857142857 train score=0.2885892857142857\n",
      "| lr = 0.5 | activtion function = tan_h | loss = CE | \n",
      "| reg l1 = 0 | reg l2 = 0 | momentum = 0 | lr chamge = 1 |\n",
      "----------------------experiment-over--------------------------\n",
      "\n",
      "\n",
      "-------------------starting-to-new-experiment------------------\n",
      "\n"
     ]
    },
    {
     "name": "stderr",
     "output_type": "stream",
     "text": [
      " 24%|███████████████████▋                                                              | 12/50 [01:01<03:15,  5.13s/it]\n"
     ]
    },
    {
     "name": "stdout",
     "output_type": "stream",
     "text": [
      "\n",
      "--------------------------results------------------------------\n",
      "validation score=0.153 train score=0.1593392857142857\n",
      "| lr = 0.5 | activtion function = tan_h | loss = CE | \n",
      "| reg l1 = 0 | reg l2 = 0 | momentum = 0 | lr chamge = 1 |\n",
      "----------------------experiment-over--------------------------\n",
      "\n",
      "\n",
      "-------------------starting-to-new-experiment------------------\n",
      "\n"
     ]
    },
    {
     "name": "stderr",
     "output_type": "stream",
     "text": [
      " 66%|██████████████████████████████████████████████████████                            | 33/50 [04:01<02:04,  7.32s/it]\n"
     ]
    },
    {
     "name": "stdout",
     "output_type": "stream",
     "text": [
      "\n",
      "--------------------------results------------------------------\n",
      "validation score=0.8384285714285714 train score=0.8479285714285715\n",
      "| lr = 0.5 | activtion function = tan_h | loss = CE | \n",
      "| reg l1 = 0 | reg l2 = 0 | momentum = 0 | lr chamge = 1 |\n",
      "----------------------experiment-over--------------------------\n",
      "\n"
     ]
    }
   ],
   "source": [
    "structures = [[input_dim, 1024, 1024,  output_dim],\n",
    "              [input_dim, 1024, 256,  output_dim],              \n",
    "              [input_dim, 1024, 512, output_dim], \n",
    "              [input_dim, 512, 512, output_dim], \n",
    "              [input_dim, 512, 256, output_dim],\n",
    "              [input_dim, 256, 256, output_dim],\n",
    "              [input_dim, 512, output_dim],\n",
    "             ]\n",
    "\n",
    "for struct in structures:\n",
    "    exper = experiment(struct, activation='tan_h', lr=best_lr, max_epochs=50)\n",
    "    net, score = exper.run_experiment(X_train, y_train, X_vladition, y_vladition)\n",
    "    if score > best_score:\n",
    "        print(\"----------------------new-best-model--------------------------\")\n",
    "        best_struct = struct\n",
    "        best_score = score\n",
    "        best_net = net"
   ]
  },
  {
   "cell_type": "markdown",
   "id": "dc188c2f",
   "metadata": {},
   "source": [
    "## Regularization"
   ]
  },
  {
   "cell_type": "markdown",
   "id": "2e379eb8",
   "metadata": {},
   "source": [
    "In this experiment we will try to find the best regularization coef"
   ]
  },
  {
   "cell_type": "code",
   "execution_count": 10,
   "id": "392a213c",
   "metadata": {},
   "outputs": [
    {
     "name": "stdout",
     "output_type": "stream",
     "text": [
      "\n",
      "-------------------starting-to-new-experiment------------------\n",
      "\n"
     ]
    },
    {
     "name": "stderr",
     "output_type": "stream",
     "text": [
      " 54%|████████████████████████████████████████████▎                                     | 27/50 [09:43<08:16, 21.61s/it]\n"
     ]
    },
    {
     "name": "stdout",
     "output_type": "stream",
     "text": [
      "\n",
      "--------------------------results------------------------------\n",
      "validation score=0.848 train score=0.8503571428571428\n",
      "| lr = 0.5 | activtion function = sig | loss = CE | \n",
      "| reg l1 = 0.0001 | reg l2 = 0.0001 | momentum = 0 | lr chamge = 1 |\n",
      "----------------------experiment-over--------------------------\n",
      "\n",
      "\n",
      "-------------------starting-to-new-experiment------------------\n",
      "\n"
     ]
    },
    {
     "name": "stderr",
     "output_type": "stream",
     "text": [
      " 26%|█████████████████████▎                                                            | 13/50 [04:50<13:45, 22.32s/it]\n"
     ]
    },
    {
     "name": "stdout",
     "output_type": "stream",
     "text": [
      "\n",
      "--------------------------results------------------------------\n",
      "validation score=0.20414285714285715 train score=0.21007142857142858\n",
      "| lr = 0.5 | activtion function = sig | loss = CE | \n",
      "| reg l1 = 0.0001 | reg l2 = 0.001 | momentum = 0 | lr chamge = 1 |\n",
      "----------------------experiment-over--------------------------\n",
      "\n",
      "\n",
      "-------------------starting-to-new-experiment------------------\n",
      "\n"
     ]
    },
    {
     "name": "stderr",
     "output_type": "stream",
     "text": [
      " 38%|███████████████████████████████▏                                                  | 19/50 [06:57<11:21, 21.97s/it]\n"
     ]
    },
    {
     "name": "stdout",
     "output_type": "stream",
     "text": [
      "\n",
      "--------------------------results------------------------------\n",
      "validation score=0.40385714285714286 train score=0.39953571428571427\n",
      "| lr = 0.5 | activtion function = sig | loss = CE | \n",
      "| reg l1 = 0.001 | reg l2 = 0.0001 | momentum = 0 | lr chamge = 1 |\n",
      "----------------------experiment-over--------------------------\n",
      "\n",
      "\n",
      "-------------------starting-to-new-experiment------------------\n",
      "\n"
     ]
    },
    {
     "name": "stderr",
     "output_type": "stream",
     "text": [
      " 26%|█████████████████████▎                                                            | 13/50 [04:43<13:27, 21.82s/it]\n"
     ]
    },
    {
     "name": "stdout",
     "output_type": "stream",
     "text": [
      "\n",
      "--------------------------results------------------------------\n",
      "validation score=0.127 train score=0.12667857142857142\n",
      "| lr = 0.5 | activtion function = sig | loss = CE | \n",
      "| reg l1 = 0.001 | reg l2 = 0.001 | momentum = 0 | lr chamge = 1 |\n",
      "----------------------experiment-over--------------------------\n",
      "\n"
     ]
    }
   ],
   "source": [
    "reg = [10**-4, 10**-3]\n",
    "\n",
    "best_reg1 = 0\n",
    "best_reg2 = 0\n",
    "for reg1 in reg:\n",
    "    for reg2 in reg:\n",
    "        exper = experiment(best_struct, lr=best_lr,l1_reg=reg1, l2_reg=reg2, max_epochs=50)\n",
    "        net, score = exper.run_experiment(X_train, y_train, X_vladition, y_vladition)\n",
    "        if score > best_score:\n",
    "            print(\"----------------------new-best-model--------------------------\")\n",
    "            net.print_net\n",
    "            best_reg1 = reg1\n",
    "            best_reg2 = reg2\n",
    "            best_score = score\n",
    "            best_net = net"
   ]
  },
  {
   "cell_type": "code",
   "execution_count": 11,
   "id": "8787a0ce",
   "metadata": {},
   "outputs": [
    {
     "name": "stdout",
     "output_type": "stream",
     "text": [
      "\n",
      "-------------------starting-to-new-experiment------------------\n",
      "\n"
     ]
    },
    {
     "name": "stderr",
     "output_type": "stream",
     "text": [
      " 48%|███████████████████████████████████████▎                                          | 24/50 [06:07<06:38, 15.33s/it]\n"
     ]
    },
    {
     "name": "stdout",
     "output_type": "stream",
     "text": [
      "\n",
      "--------------------------results------------------------------\n",
      "validation score=0.783 train score=0.7884285714285715\n",
      "| lr = 0.5 | activtion function = tan_h | loss = CE | \n",
      "| reg l1 = 0.0001 | reg l2 = 0.0001 | momentum = 0 | lr chamge = 1 |\n",
      "----------------------experiment-over--------------------------\n",
      "\n",
      "\n",
      "-------------------starting-to-new-experiment------------------\n",
      "\n"
     ]
    },
    {
     "name": "stderr",
     "output_type": "stream",
     "text": [
      " 26%|█████████████████████▎                                                            | 13/50 [03:26<09:47, 15.88s/it]\n"
     ]
    },
    {
     "name": "stdout",
     "output_type": "stream",
     "text": [
      "\n",
      "--------------------------results------------------------------\n",
      "validation score=0.094 train score=0.099375\n",
      "| lr = 0.5 | activtion function = tan_h | loss = CE | \n",
      "| reg l1 = 0.0001 | reg l2 = 0.001 | momentum = 0 | lr chamge = 1 |\n",
      "----------------------experiment-over--------------------------\n",
      "\n",
      "\n",
      "-------------------starting-to-new-experiment------------------\n",
      "\n"
     ]
    },
    {
     "name": "stderr",
     "output_type": "stream",
     "text": [
      " 50%|█████████████████████████████████████████                                         | 25/50 [06:23<06:23, 15.32s/it]\n"
     ]
    },
    {
     "name": "stdout",
     "output_type": "stream",
     "text": [
      "\n",
      "--------------------------results------------------------------\n",
      "validation score=0.7817142857142857 train score=0.7882678571428572\n",
      "| lr = 0.5 | activtion function = tan_h | loss = CE | \n",
      "| reg l1 = 0.001 | reg l2 = 0.0001 | momentum = 0 | lr chamge = 1 |\n",
      "----------------------experiment-over--------------------------\n",
      "\n",
      "\n",
      "-------------------starting-to-new-experiment------------------\n",
      "\n"
     ]
    },
    {
     "name": "stderr",
     "output_type": "stream",
     "text": [
      " 24%|███████████████████▋                                                              | 12/50 [03:11<10:05, 15.94s/it]\n"
     ]
    },
    {
     "name": "stdout",
     "output_type": "stream",
     "text": [
      "\n",
      "--------------------------results------------------------------\n",
      "validation score=0.2 train score=0.20558928571428572\n",
      "| lr = 0.5 | activtion function = tan_h | loss = CE | \n",
      "| reg l1 = 0.001 | reg l2 = 0.001 | momentum = 0 | lr chamge = 1 |\n",
      "----------------------experiment-over--------------------------\n",
      "\n"
     ]
    }
   ],
   "source": [
    "reg = [10**-4, 10**-3]\n",
    "\n",
    "best_reg1 = 0\n",
    "best_reg2 = 0\n",
    "for reg1 in reg:\n",
    "    for reg2 in reg:\n",
    "        exper = experiment(best_struct, activation='tan_h', lr=best_lr,l1_reg=reg1, l2_reg=reg2, max_epochs=50)\n",
    "        net, score = exper.run_experiment(X_train, y_train, X_vladition, y_vladition)\n",
    "        if score > best_score:\n",
    "            print(\"----------------------new-best-model--------------------------\")\n",
    "            net.print_net\n",
    "            best_reg1 = reg1\n",
    "            best_reg2 = reg2\n",
    "            best_score = score\n",
    "            best_net = net"
   ]
  },
  {
   "cell_type": "markdown",
   "id": "d67bd20b",
   "metadata": {},
   "source": [
    "## Momentum"
   ]
  },
  {
   "cell_type": "markdown",
   "id": "7b1f9d15",
   "metadata": {},
   "source": [
    "In this experiment we will try to add momentum to the grad"
   ]
  },
  {
   "cell_type": "code",
   "execution_count": 12,
   "id": "8d859e7d",
   "metadata": {},
   "outputs": [
    {
     "name": "stdout",
     "output_type": "stream",
     "text": [
      "\n",
      "-------------------starting-to-new-experiment------------------\n",
      "\n"
     ]
    },
    {
     "name": "stderr",
     "output_type": "stream",
     "text": [
      " 28%|██████████████████████▉                                                           | 14/50 [05:12<13:24, 22.34s/it]\n"
     ]
    },
    {
     "name": "stdout",
     "output_type": "stream",
     "text": [
      "\n",
      "--------------------------results------------------------------\n",
      "validation score=0.5687142857142857 train score=0.573875\n",
      "| lr = 0.5 | activtion function = sig | loss = CE | \n",
      "| reg l1 = 0 | reg l2 = 0 | momentum = 0.9 | lr chamge = 1 |\n",
      "----------------------experiment-over--------------------------\n",
      "\n"
     ]
    }
   ],
   "source": [
    "exper = experiment(best_struct, lr=best_lr,l1_reg=best_reg1, l2_reg=best_reg2, momentum=0.9, max_epochs=50)\n",
    "net, score = exper.run_experiment(X_train, y_train, X_vladition, y_vladition)\n",
    "if score > best_score:\n",
    "    print(\"----------------------new-best-model--------------------------\")\n",
    "    net.print_net\n",
    "    best_reg1 = reg1\n",
    "    best_reg2 = reg2\n",
    "    best_score = score\n",
    "    best_net = net"
   ]
  },
  {
   "cell_type": "markdown",
   "id": "984c5712",
   "metadata": {},
   "source": [
    "## batch size"
   ]
  },
  {
   "cell_type": "code",
   "execution_count": null,
   "id": "992976a1",
   "metadata": {},
   "outputs": [
    {
     "name": "stdout",
     "output_type": "stream",
     "text": [
      "\n",
      "-------------------starting-to-new-experiment------------------\n",
      "\n"
     ]
    },
    {
     "name": "stderr",
     "output_type": "stream",
     "text": [
      " 22%|██████████████████                                                                | 11/50 [10:53<38:36, 59.40s/it]\n"
     ]
    },
    {
     "name": "stdout",
     "output_type": "stream",
     "text": [
      "\n",
      "--------------------------results------------------------------\n",
      "validation score=0.094 train score=0.09928571428571428\n",
      "| lr = 0.5 | activtion function = sig | loss = CE | \n",
      "| reg l1 = 0 | reg l2 = 0 | momentum = 0.9 | lr chamge = 1 |\n",
      "----------------------experiment-over--------------------------\n",
      "\n",
      "\n",
      "-------------------starting-to-new-experiment------------------\n",
      "\n"
     ]
    },
    {
     "name": "stderr",
     "output_type": "stream",
     "text": [
      " 24%|███████████████████▋                                                              | 12/50 [07:31<23:50, 37.64s/it]\n"
     ]
    },
    {
     "name": "stdout",
     "output_type": "stream",
     "text": [
      "\n",
      "--------------------------results------------------------------\n",
      "validation score=0.285 train score=0.29326785714285714\n",
      "| lr = 0.5 | activtion function = sig | loss = CE | \n",
      "| reg l1 = 0 | reg l2 = 0 | momentum = 0.9 | lr chamge = 1 |\n",
      "----------------------experiment-over--------------------------\n",
      "\n",
      "\n",
      "-------------------starting-to-new-experiment------------------\n",
      "\n"
     ]
    },
    {
     "name": "stderr",
     "output_type": "stream",
     "text": [
      " 22%|██████████████████                                                                | 11/50 [03:33<12:37, 19.42s/it]\n"
     ]
    },
    {
     "name": "stdout",
     "output_type": "stream",
     "text": [
      "\n",
      "--------------------------results------------------------------\n",
      "validation score=0.20285714285714285 train score=0.2092857142857143\n",
      "| lr = 0.5 | activtion function = sig | loss = CE | \n",
      "| reg l1 = 0 | reg l2 = 0 | momentum = 0.9 | lr chamge = 1 |\n",
      "----------------------experiment-over--------------------------\n",
      "\n"
     ]
    }
   ],
   "source": [
    "batch_sizes = [32, 64, 256]\n",
    "best_batch = 128\n",
    "for batch_size in batch_sizes:\n",
    "    exper = experiment(best_struct, lr=best_lr,l1_reg=best_reg1, l2_reg=best_reg2, momentum=0.9, max_epochs=50, batch_size=batch_size)\n",
    "    net, score = exper.run_experiment(X_train, y_train, X_vladition, y_vladition)\n",
    "    score = net.score(X_vladition, np.argmax(y_vladition, axis=1))\n",
    "    train_score = net.score(X_train, np.argmax(y_train, axis=1))\n",
    "    if score > best_score:\n",
    "        print(\"----------------------new-best-model--------------------------\")\n",
    "        net.print_net\n",
    "        best_batch = batch_size\n",
    "        best_score = score\n",
    "        best_net = net\n",
    "    "
   ]
  },
  {
   "cell_type": "code",
   "execution_count": null,
   "id": "d1d96fdc",
   "metadata": {},
   "outputs": [],
   "source": [
    "batch_sizes = [32, 64, 256]\n",
    "best_batch = 128\n",
    "for batch_size in batch_sizes:\n",
    "    net = fc(best_struct, activation='tan_h',l1_reg=best_reg1, l2_reg=best_reg2)\n",
    "    net.train(X_train, y_train, X_vladition, y_vladition, lr=best_lr, epochs = 50, batch_size=batch_size)\n",
    "    score = net.score(X_vladition, np.argmax(y_vladition, axis=1))\n",
    "    train_score = net.score(X_train, np.argmax(y_train, axis=1))\n",
    "    print('--------------------------results------------------------------')\n",
    "    print(f\"validation score={score} train score={train_score}\")\n",
    "    net.print_net()\n",
    "    print('----------------------experiment-over--------------------------')\n",
    "    if score > best_score:\n",
    "        print(\"----------------------new-best-model--------------------------\")\n",
    "        net.print_net\n",
    "        best_batch = batch_size\n",
    "        best_score = score\n",
    "        best_net = net\n",
    "    "
   ]
  },
  {
   "cell_type": "markdown",
   "id": "2846da18",
   "metadata": {},
   "source": [
    "# changing the learning rate during the epochs"
   ]
  },
  {
   "cell_type": "code",
   "execution_count": null,
   "id": "2a8ce3fe",
   "metadata": {},
   "outputs": [],
   "source": [
    "exper = experiment(best_struct, lr=best_lr,l1_reg=best_reg1, l2_reg=best_reg2, max_epochs=50, lr_change=0.9)\n",
    "net, score = exper.run_experiment(X_train, y_train, X_vladition, y_vladition)\n",
    "if score > best_score:\n",
    "    print(\"----------------------new-best-model--------------------------\")\n",
    "    net.print_net\n",
    "    best_score = score\n",
    "    best_net = net"
   ]
  },
  {
   "cell_type": "markdown",
   "id": "38c055ce",
   "metadata": {},
   "source": [
    "# train the best net"
   ]
  },
  {
   "cell_type": "code",
   "execution_count": null,
   "id": "277b283c",
   "metadata": {},
   "outputs": [],
   "source": [
    "best_net.train(X_train, y_train, X_vladition, y_vladition, epochs=50, lr=best_lr)"
   ]
  },
  {
   "cell_type": "code",
   "execution_count": null,
   "id": "bd505141",
   "metadata": {},
   "outputs": [],
   "source": [
    "best_net.train(X_train, y_train, X_vladition, y_vladition, epochs=50,lr=best_lr*0.1)"
   ]
  },
  {
   "cell_type": "code",
   "execution_count": null,
   "id": "517c3f27",
   "metadata": {},
   "outputs": [],
   "source": [
    "best_net.train(X_train, y_train, X_vladition, y_vladition, epochs=50, lr=best_lr*0.01)"
   ]
  },
  {
   "cell_type": "code",
   "execution_count": null,
   "id": "427d62e6",
   "metadata": {},
   "outputs": [],
   "source": [
    "best_net.print_net()"
   ]
  },
  {
   "cell_type": "code",
   "execution_count": null,
   "id": "a1351684",
   "metadata": {},
   "outputs": [],
   "source": [
    "best_net.score(X_test, np.argmax(y_test, axis=1))"
   ]
  },
  {
   "cell_type": "code",
   "execution_count": null,
   "id": "16b83da3",
   "metadata": {},
   "outputs": [],
   "source": []
  }
 ],
 "metadata": {
  "kernelspec": {
   "display_name": "Python 3 (ipykernel)",
   "language": "python",
   "name": "python3"
  },
  "language_info": {
   "codemirror_mode": {
    "name": "ipython",
    "version": 3
   },
   "file_extension": ".py",
   "mimetype": "text/x-python",
   "name": "python",
   "nbconvert_exporter": "python",
   "pygments_lexer": "ipython3",
   "version": "3.9.12"
  }
 },
 "nbformat": 4,
 "nbformat_minor": 5
}
